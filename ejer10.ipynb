{
  "nbformat": 4,
  "nbformat_minor": 0,
  "metadata": {
    "colab": {
      "provenance": []
    },
    "kernelspec": {
      "name": "python3",
      "display_name": "Python 3"
    },
    "language_info": {
      "name": "python"
    }
  },
  "cells": [
    {
      "cell_type": "code",
      "execution_count": 3,
      "metadata": {
        "colab": {
          "base_uri": "https://localhost:8080/"
        },
        "id": "prM_uB9sjsIs",
        "outputId": "ec01f09d-729f-47c2-f408-c766d44721a4"
      },
      "outputs": [
        {
          "output_type": "stream",
          "name": "stdout",
          "text": [
            "Vector 0: [2, 10, 18, 26, 34]\n",
            "Vector 1: [4, 12, 20, 28, 36]\n",
            "Vector 2: [6, 14, 22, 30, 38]\n",
            "Vector 3: [8, 16, 24, 32, 40]\n"
          ]
        }
      ],
      "source": [
        "import multiprocessing\n",
        "def generarPares(ini, fin, c):\n",
        "    serie = []\n",
        "    for i in range(ini, fin + 1, c):\n",
        "        serie.append(i)\n",
        "    return serie\n",
        "\n",
        "if __name__ == \"__main__\":\n",
        "    M = 4\n",
        "    N = 10\n",
        "\n",
        "    pool = multiprocessing.Pool(processes=M)\n",
        "    rangos = [(i * 2 + 2, (i * 2 + 2) + (N - 1) * M, 2 * M) for i in range(M)]\n",
        "    resultados = pool.starmap(generarPares, rangos)\n",
        "    for i, serie in enumerate(resultados):\n",
        "        print(f\"Vector {i}: {serie}\")\n"
      ]
    }
  ]
}